{
 "metadata": {
  "name": "",
  "signature": "sha256:cf0dfa08683c20b9f634314ab4457661ae143674696c43d0b0ea75527298cded"
 },
 "nbformat": 3,
 "nbformat_minor": 0,
 "worksheets": [
  {
   "cells": [
    {
     "cell_type": "code",
     "collapsed": false,
     "input": [
      "L_MASK = int('0x0000ffff', 16)\n",
      "H_MASK = int('0xffff0000', 16)\n",
      "ERBITS = int('0xfffff00f', 16)\n",
      "NLINES = 8"
     ],
     "language": "python",
     "metadata": {},
     "outputs": [],
     "prompt_number": 75
    },
    {
     "cell_type": "code",
     "collapsed": false,
     "input": [
      "fixRight = lambda x: x >> 16\n",
      "fixLeft = lambda x: x << 16"
     ],
     "language": "python",
     "metadata": {},
     "outputs": [],
     "prompt_number": 76
    },
    {
     "cell_type": "code",
     "collapsed": false,
     "input": [
      "from random import randint\n",
      "KEY = randint(1, 2**16)\n",
      "randCode = lambda : randint(0,2**16)\n",
      "genCodePair = lambda code: (fixLeft(code ^ KEY) & H_MASK) + ( code & L_MASK )\n",
      "unZip = lambda prog: [(fixRight(x & H_MASK), x & L_MASK) for x in prog]\n",
      "printBin32 = lambda x: bin(x)[2:].zfill(32)\n",
      "printBin16 = lambda x: bin(x)[2:].zfill(16)\n",
      "def riskyProc(prog):\n",
      "    rN = randint(0,len(prog)-1)\n",
      "    prog[rN] = prog[rN] & ERBITS"
     ],
     "language": "python",
     "metadata": {},
     "outputs": [],
     "prompt_number": 77
    },
    {
     "cell_type": "code",
     "collapsed": false,
     "input": [
      "def dispCode(tup_list, whole_code_list):\n",
      "    x = [(printBin32(whole_code_list[x]) ,(printBin16(tup_list[x][0]), printBin16(tup_list[x][1]) ) ) for x in range(len(tup_list))]\n",
      "    for l in x:\n",
      "        ls_int = int('0b' + l[1][0],2)\n",
      "        rs_int = int('0b' + l[1][1],2)\n",
      "        if KEY ^ ls_int == rs_int:\n",
      "            print l\n",
      "        else:\n",
      "            print l, \"<----- ERROR\", (ls_int, rs_int, KEY ^ ls_int)\n",
      "    print \"\\n\"\n",
      "Prog = [genCodePair(randCode()) for x in range(NLINES)]\n",
      "backUp = list(Prog)\n",
      "print \"Good code:\"\n",
      "dispCode(unZip(Prog), Prog)\n",
      "riskyProc(Prog)\n",
      "print \"Bad code:\"\n",
      "dispCode(unZip(Prog), Prog)"
     ],
     "language": "python",
     "metadata": {},
     "outputs": [
      {
       "output_type": "stream",
       "stream": "stdout",
       "text": [
        "Good code:\n",
        "('11100001111111111110001001110100', ('1110000111111111', '1110001001110100'))\n",
        "('00010001011000010001001011101010', ('0001000101100001', '0001001011101010'))\n",
        "('10011101110100111001111001011000', ('1001110111010011', '1001111001011000'))\n",
        "('10000010110100001000000101011011', ('1000001011010000', '1000000101011011'))\n",
        "('01101101001000010110111010101010', ('0110110100100001', '0110111010101010'))\n",
        "('00101011011000000010100011101011', ('0010101101100000', '0010100011101011'))\n",
        "('00000111110111000000010001010111', ('0000011111011100', '0000010001010111'))\n",
        "('00010011011110100001000011110001', ('0001001101111010', '0001000011110001'))\n",
        "\n",
        "\n",
        "Bad code:\n",
        "('11100001111111111110000000000100', ('1110000111111111', '1110000000000100')) <----- ERROR (57855, 57348, 57972)\n",
        "('00010001011000010001001011101010', ('0001000101100001', '0001001011101010'))\n",
        "('10011101110100111001111001011000', ('1001110111010011', '1001111001011000'))\n",
        "('10000010110100001000000101011011', ('1000001011010000', '1000000101011011'))\n",
        "('01101101001000010110111010101010', ('0110110100100001', '0110111010101010'))\n",
        "('00101011011000000010100011101011', ('0010101101100000', '0010100011101011'))\n",
        "('00000111110111000000010001010111', ('0000011111011100', '0000010001010111'))\n",
        "('00010011011110100001000011110001', ('0001001101111010', '0001000011110001'))\n",
        "\n",
        "\n"
       ]
      }
     ],
     "prompt_number": 78
    },
    {
     "cell_type": "code",
     "collapsed": false,
     "input": [
      "def healCode(tup_list, key):\n",
      "    Prog = []\n",
      "    for i in range(len(tup_list)):\n",
      "        if key ^ tup_list[i][0] != tup_list[i][1]:\n",
      "            ## Need to determine if error is on left or right (higher or lower signifcant bits)\n",
      "            ## a1 ^ b1 = x ; a2 ^ b2 = x; a1 ^ b1 = a2 ^ b2\n",
      "            ## For now, I know the error is on the right....\n",
      "            tup_list[i] = (tup_list[i][0]  , tup_list[i][0] ^ key)\n",
      "        Prog.append(fixLeft(tup_list[i][0]) + tup_list[i][1])\n",
      "    return Prog\n",
      "\n",
      "Prog = healCode(unZip(Prog), KEY)\n",
      "print \"Healed code\"\n",
      "dispCode(unZip(Prog), Prog)\n",
      "print \"Original code\"\n",
      "dispCode(unZip(backUp), backUp)"
     ],
     "language": "python",
     "metadata": {},
     "outputs": [
      {
       "output_type": "stream",
       "stream": "stdout",
       "text": [
        "Healed code\n",
        "('11100001111111111110001001110100', ('1110000111111111', '1110001001110100'))\n",
        "('00010001011000010001001011101010', ('0001000101100001', '0001001011101010'))\n",
        "('10011101110100111001111001011000', ('1001110111010011', '1001111001011000'))\n",
        "('10000010110100001000000101011011', ('1000001011010000', '1000000101011011'))\n",
        "('01101101001000010110111010101010', ('0110110100100001', '0110111010101010'))\n",
        "('00101011011000000010100011101011', ('0010101101100000', '0010100011101011'))\n",
        "('00000111110111000000010001010111', ('0000011111011100', '0000010001010111'))\n",
        "('00010011011110100001000011110001', ('0001001101111010', '0001000011110001'))\n",
        "\n",
        "\n",
        "Original code\n",
        "('11100001111111111110001001110100', ('1110000111111111', '1110001001110100'))\n",
        "('00010001011000010001001011101010', ('0001000101100001', '0001001011101010'))\n",
        "('10011101110100111001111001011000', ('1001110111010011', '1001111001011000'))\n",
        "('10000010110100001000000101011011', ('1000001011010000', '1000000101011011'))\n",
        "('01101101001000010110111010101010', ('0110110100100001', '0110111010101010'))\n",
        "('00101011011000000010100011101011', ('0010101101100000', '0010100011101011'))\n",
        "('00000111110111000000010001010111', ('0000011111011100', '0000010001010111'))\n",
        "('00010011011110100001000011110001', ('0001001101111010', '0001000011110001'))\n",
        "\n",
        "\n"
       ]
      }
     ],
     "prompt_number": 79
    }
   ],
   "metadata": {}
  }
 ]
}